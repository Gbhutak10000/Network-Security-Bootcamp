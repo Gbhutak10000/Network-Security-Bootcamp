{
  "nbformat": 4,
  "nbformat_minor": 0,
  "metadata": {
    "colab": {
      "name": "Gaurav Bhutak Network Security Bootcamp.ipynb",
      "provenance": []
    },
    "kernelspec": {
      "name": "python3",
      "display_name": "Python 3"
    },
    "language_info": {
      "name": "python"
    }
  },
  "cells": [
    {
      "cell_type": "markdown",
      "metadata": {
        "id": "hcv190nhRghh"
      },
      "source": [
        "1) Write a Program in Python to generate MD5 of string data."
      ]
    },
    {
      "cell_type": "code",
      "metadata": {
        "colab": {
          "base_uri": "https://localhost:8080/"
        },
        "id": "5BRxhcW5S_Uo",
        "outputId": "b546010b-f5a7-4bd7-9f4f-cb9adf8e3461"
      },
      "source": [
        "import hashlib\n",
        "X=input(\" Enter string \")"
      ],
      "execution_count": 3,
      "outputs": [
        {
          "output_type": "stream",
          "text": [
            " Enter string Gaurav\n"
          ],
          "name": "stdout"
        }
      ]
    },
    {
      "cell_type": "code",
      "metadata": {
        "colab": {
          "base_uri": "https://localhost:8080/"
        },
        "id": "YwaXLu3qRiia",
        "outputId": "5400da51-0c10-464d-fc61-2298dd1d4704"
      },
      "source": [
        "#MD5 Solution\n",
        "print(hashlib.md5(X.encode('utf-8')).hexdigest())"
      ],
      "execution_count": 4,
      "outputs": [
        {
          "output_type": "stream",
          "text": [
            "6a2dcf3057ebd584e38278c8de63b341\n"
          ],
          "name": "stdout"
        }
      ]
    },
    {
      "cell_type": "code",
      "metadata": {
        "colab": {
          "base_uri": "https://localhost:8080/"
        },
        "id": "GdNfMiOJRqII",
        "outputId": "a529e603-53d5-42d6-dbfa-9b669d2e404e"
      },
      "source": [
        "print(hashlib.algorithms_available)"
      ],
      "execution_count": 5,
      "outputs": [
        {
          "output_type": "stream",
          "text": [
            "{'sha3_256', 'shake_128', 'sha1', 'sha224', 'sha256', 'md5', 'sha512', 'sha3_224', 'sha3_384', 'sha384', 'sha3_512', 'shake_256', 'blake2b', 'blake2s'}\n"
          ],
          "name": "stdout"
        }
      ]
    },
    {
      "cell_type": "markdown",
      "metadata": {
        "id": "ofhynr2ZRt5A"
      },
      "source": [
        "2) Write a Program in Python to generate hashes of string data using 3 algorithms from hashlib."
      ]
    },
    {
      "cell_type": "code",
      "metadata": {
        "colab": {
          "base_uri": "https://localhost:8080/"
        },
        "id": "QYQGJ4c2TFfJ",
        "outputId": "1450451f-1ebe-488b-a4c5-945ee204ef3e"
      },
      "source": [
        "import hashlib\n",
        "X=input(\" Enter string \")"
      ],
      "execution_count": 7,
      "outputs": [
        {
          "output_type": "stream",
          "text": [
            " Enter string Hitesh\n"
          ],
          "name": "stdout"
        }
      ]
    },
    {
      "cell_type": "code",
      "metadata": {
        "colab": {
          "base_uri": "https://localhost:8080/"
        },
        "id": "MLVv8O6CRxqI",
        "outputId": "904aa924-4762-410e-bb1c-19edbf005f5a"
      },
      "source": [
        "#sha256\n",
        "print(hashlib.sha256(X.encode('utf-8')).hexdigest())"
      ],
      "execution_count": 8,
      "outputs": [
        {
          "output_type": "stream",
          "text": [
            "246a1cd7e1ac5a113ee13b1b2b08a71cd9b9917a35d8c97173f3c895682c2921\n"
          ],
          "name": "stdout"
        }
      ]
    },
    {
      "cell_type": "code",
      "metadata": {
        "colab": {
          "base_uri": "https://localhost:8080/"
        },
        "id": "7z39HNLfR0Ww",
        "outputId": "4ee54e93-e357-460a-f63d-9a3ecf14b37f"
      },
      "source": [
        "#blake2b\n",
        "print(hashlib.blake2b(X.encode('utf-8')).hexdigest())"
      ],
      "execution_count": 9,
      "outputs": [
        {
          "output_type": "stream",
          "text": [
            "533483c672067ffb19727573ffd48897e0805b50ebbc955569c4591e6fde3bc6831bf2dcb885613bb89da170ed1eb6701d4f1a54c36a541d64e871b13d3af673\n"
          ],
          "name": "stdout"
        }
      ]
    },
    {
      "cell_type": "code",
      "metadata": {
        "colab": {
          "base_uri": "https://localhost:8080/"
        },
        "id": "yznZGpi4R15I",
        "outputId": "f112b8f1-8b9f-4eb5-917b-bc2829c553b4"
      },
      "source": [
        "#sha384\n",
        "print(hashlib.sha384(X.encode('utf-8')).hexdigest())"
      ],
      "execution_count": 10,
      "outputs": [
        {
          "output_type": "stream",
          "text": [
            "e47e986f4b815ed71aff0c16036b0129f5f98918bd1916677cb4baf0a3d844ae4f5d24a84c8a90ade00c34d50556b523\n"
          ],
          "name": "stdout"
        }
      ]
    }
  ]
}